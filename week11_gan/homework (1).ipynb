{
 "cells": [
  {
   "cell_type": "markdown",
   "metadata": {
    "colab_type": "text",
    "id": "0ST-mREnOk-0"
   },
   "source": [
    "![embedding_mapping.png](https://github.com/yandexdataschool/nlp_course/raw/master/resources/embedding_mapping.png)"
   ]
  },
  {
   "cell_type": "markdown",
   "metadata": {
    "colab_type": "text",
    "id": "Bz1bd-W6Ok-2"
   },
   "source": [
    "## Homework: Un(semi)-supervised word translation learning"
   ]
  },
  {
   "cell_type": "markdown",
   "metadata": {
    "colab_type": "text",
    "id": "NuBUKwStOk-2"
   },
   "source": [
    "Homework based on [Conneau et al. 2018](https://arxiv.org/abs/1710.04087) article.\n",
    "\n",
    "In the homework we offer you to train a mapping between Ukrainian word vectors and Russian word vectors just like in the first homework of the NLP course. But unlike the first homework this mapping will be build (almost) unsupervised: without parallel data (pairs of corresponding words in Ukrainian and Russian)."
   ]
  },
  {
   "cell_type": "code",
   "execution_count": 0,
   "metadata": {
    "colab": {
     "base_uri": "https://localhost:8080/",
     "height": 68
    },
    "colab_type": "code",
    "executionInfo": {
     "elapsed": 2172,
     "status": "ok",
     "timestamp": 1544721782866,
     "user": {
      "displayName": "Антон Чикунов",
      "photoUrl": "https://lh6.googleusercontent.com/-UUCr162DexY/AAAAAAAAAAI/AAAAAAAACHw/TB_NX-xqcWs/s64/photo.jpg",
      "userId": "10327575406852457431"
     },
     "user_tz": -300
    },
    "id": "PSClBBAcOk-4",
    "outputId": "94c290b4-9c8a-43eb-fe0e-f83423b8a4a9"
   },
   "outputs": [
    {
     "name": "stdout",
     "output_type": "stream",
     "text": [
      "env: KERAS_BACKEND=tensorflow\n",
      "env: CUDA_VISIBLE_DEVICES=1\n"
     ]
    },
    {
     "name": "stderr",
     "output_type": "stream",
     "text": [
      "Using TensorFlow backend.\n"
     ]
    }
   ],
   "source": [
    "%env KERAS_BACKEND=tensorflow\n",
    "%env CUDA_VISIBLE_DEVICES=1\n",
    "%load_ext autoreload\n",
    "%autoreload 2\n",
    "\n",
    "import tensorflow as tf\n",
    "import keras\n",
    "from keras.models import Sequential\n",
    "from keras import layers as L\n",
    "import numpy as np\n",
    "import gensim\n",
    "\n",
    "from IPython import display\n",
    "from tqdm import tnrange\n",
    "import matplotlib.pyplot as plt\n",
    "%matplotlib inline"
   ]
  },
  {
   "cell_type": "code",
   "execution_count": 0,
   "metadata": {
    "colab": {
     "base_uri": "https://localhost:8080/",
     "height": 1397
    },
    "colab_type": "code",
    "executionInfo": {
     "elapsed": 21699,
     "status": "ok",
     "timestamp": 1544721805184,
     "user": {
      "displayName": "Антон Чикунов",
      "photoUrl": "https://lh6.googleusercontent.com/-UUCr162DexY/AAAAAAAAAAI/AAAAAAAACHw/TB_NX-xqcWs/s64/photo.jpg",
      "userId": "10327575406852457431"
     },
     "user_tz": -300
    },
    "id": "1afraTn7Ok-8",
    "outputId": "57e06b37-b616-49dc-9bb2-8da4cc72d946"
   },
   "outputs": [
    {
     "name": "stdout",
     "output_type": "stream",
     "text": [
      "--2018-12-13 17:23:04--  https://www.dropbox.com/s/cnwyfbfa44mqxph/ukr_rus.train.txt?dl=1\n",
      "Resolving www.dropbox.com (www.dropbox.com)... 162.125.3.1, 2620:100:601b:1::a27d:801\n",
      "Connecting to www.dropbox.com (www.dropbox.com)|162.125.3.1|:443... connected.\n",
      "HTTP request sent, awaiting response... 301 Moved Permanently\n",
      "Location: /s/dl/cnwyfbfa44mqxph/ukr_rus.train.txt [following]\n",
      "--2018-12-13 17:23:04--  https://www.dropbox.com/s/dl/cnwyfbfa44mqxph/ukr_rus.train.txt\n",
      "Reusing existing connection to www.dropbox.com:443.\n",
      "HTTP request sent, awaiting response... 302 Found\n",
      "Location: https://uc644e276bb563913b5584a5f5de.dl.dropboxusercontent.com/cd/0/get/AXZmz9PdSuOEh6UWr0pDTZs6z7MjQvNOEnzFY2bum1UznNE_C2Ba5MS5ir72OIFNuvvvZHgy8fRBI3SCSrf3D1fxrKghTlVPl9O8wNgALBkgn2Z4Q2d9uQ-2w5hC6o3XxBU1pKht2-fvN6yJ6ETWvAV-atHFU7fjX_m0c9Y2oThiK9O1SDAvIumjFs9F1GTm07A/file?dl=1 [following]\n",
      "--2018-12-13 17:23:04--  https://uc644e276bb563913b5584a5f5de.dl.dropboxusercontent.com/cd/0/get/AXZmz9PdSuOEh6UWr0pDTZs6z7MjQvNOEnzFY2bum1UznNE_C2Ba5MS5ir72OIFNuvvvZHgy8fRBI3SCSrf3D1fxrKghTlVPl9O8wNgALBkgn2Z4Q2d9uQ-2w5hC6o3XxBU1pKht2-fvN6yJ6ETWvAV-atHFU7fjX_m0c9Y2oThiK9O1SDAvIumjFs9F1GTm07A/file?dl=1\n",
      "Resolving uc644e276bb563913b5584a5f5de.dl.dropboxusercontent.com (uc644e276bb563913b5584a5f5de.dl.dropboxusercontent.com)... 162.125.8.6, 2620:100:6018:6::a27d:306\n",
      "Connecting to uc644e276bb563913b5584a5f5de.dl.dropboxusercontent.com (uc644e276bb563913b5584a5f5de.dl.dropboxusercontent.com)|162.125.8.6|:443... connected.\n",
      "HTTP request sent, awaiting response... 200 OK\n",
      "Length: 59351 (58K) [application/binary]\n",
      "Saving to: ‘./ukr_rus.train.txt’\n",
      "\n",
      "./ukr_rus.train.txt 100%[===================>]  57.96K  --.-KB/s    in 0.05s   \n",
      "\n",
      "2018-12-13 17:23:04 (1.26 MB/s) - ‘./ukr_rus.train.txt’ saved [59351/59351]\n",
      "\n",
      "--2018-12-13 17:23:05--  https://www.dropbox.com/s/78otz1d4d9b0284/ukr_rus.test.txt?dl=1\n",
      "Resolving www.dropbox.com (www.dropbox.com)... 162.125.3.1, 2620:100:601b:1::a27d:801\n",
      "Connecting to www.dropbox.com (www.dropbox.com)|162.125.3.1|:443... connected.\n",
      "HTTP request sent, awaiting response... 301 Moved Permanently\n",
      "Location: /s/dl/78otz1d4d9b0284/ukr_rus.test.txt [following]\n",
      "--2018-12-13 17:23:05--  https://www.dropbox.com/s/dl/78otz1d4d9b0284/ukr_rus.test.txt\n",
      "Reusing existing connection to www.dropbox.com:443.\n",
      "HTTP request sent, awaiting response... 302 Found\n",
      "Location: https://uc9400c12317fb9829e0795a90c6.dl.dropboxusercontent.com/cd/0/get/AXbFpbQsr4N5DRzSl6_GqPioTr6bYzKKhb1R9C87ijkWpluLyNpbI8O5E_3LjyZfRRsmNRUfGAZjaiF2B8K5IQpMqrZsAVjQnQXqrz4sLWOWHA4v7lWK3HNwCG7cbzCF3ZUQBSBv4L_Y2_qd997mWNtGqMNXLZYJ_768KDe9E3svNBCx_Fx_eLLqAwUBS0BAHKI/file?dl=1 [following]\n",
      "--2018-12-13 17:23:06--  https://uc9400c12317fb9829e0795a90c6.dl.dropboxusercontent.com/cd/0/get/AXbFpbQsr4N5DRzSl6_GqPioTr6bYzKKhb1R9C87ijkWpluLyNpbI8O5E_3LjyZfRRsmNRUfGAZjaiF2B8K5IQpMqrZsAVjQnQXqrz4sLWOWHA4v7lWK3HNwCG7cbzCF3ZUQBSBv4L_Y2_qd997mWNtGqMNXLZYJ_768KDe9E3svNBCx_Fx_eLLqAwUBS0BAHKI/file?dl=1\n",
      "Resolving uc9400c12317fb9829e0795a90c6.dl.dropboxusercontent.com (uc9400c12317fb9829e0795a90c6.dl.dropboxusercontent.com)... 162.125.3.6, 2620:100:601b:6::a27d:806\n",
      "Connecting to uc9400c12317fb9829e0795a90c6.dl.dropboxusercontent.com (uc9400c12317fb9829e0795a90c6.dl.dropboxusercontent.com)|162.125.3.6|:443... connected.\n",
      "HTTP request sent, awaiting response... 200 OK\n",
      "Length: 12188 (12K) [application/binary]\n",
      "Saving to: ‘./ukr_rus.test.txt’\n",
      "\n",
      "./ukr_rus.test.txt  100%[===================>]  11.90K  --.-KB/s    in 0s      \n",
      "\n",
      "2018-12-13 17:23:06 (236 MB/s) - ‘./ukr_rus.test.txt’ saved [12188/12188]\n",
      "\n",
      "--2018-12-13 17:23:07--  https://www.dropbox.com/s/210m7gwqkikpsxd/uk.w2v.bin?dl=1\n",
      "Resolving www.dropbox.com (www.dropbox.com)... 162.125.3.1, 2620:100:601b:1::a27d:801\n",
      "Connecting to www.dropbox.com (www.dropbox.com)|162.125.3.1|:443... connected.\n",
      "HTTP request sent, awaiting response... 301 Moved Permanently\n",
      "Location: /s/dl/210m7gwqkikpsxd/uk.w2v.bin [following]\n",
      "--2018-12-13 17:23:07--  https://www.dropbox.com/s/dl/210m7gwqkikpsxd/uk.w2v.bin\n",
      "Reusing existing connection to www.dropbox.com:443.\n",
      "HTTP request sent, awaiting response... 302 Found\n",
      "Location: https://uc5309c620245919f154bd637774.dl.dropboxusercontent.com/cd/0/get/AXYOTaQTi6xLfaW_Te9rVFa4cVkTB7ZiacglurzKDFgo9_kOCHTxrsCdjPH1bkzB43_bBy9LZYWkG6t5YCLQLIK6QltBwIXGZtLi96dcX5Sx2JmwSQZp5Yg6yIE8fwvejdvnWfhDzB79nL4vwicLpacV2n4APTu4DXd0rhYHLHr1T-Qi0qH6tvZntMaA8x7EwF8/file?dl=1 [following]\n",
      "--2018-12-13 17:23:07--  https://uc5309c620245919f154bd637774.dl.dropboxusercontent.com/cd/0/get/AXYOTaQTi6xLfaW_Te9rVFa4cVkTB7ZiacglurzKDFgo9_kOCHTxrsCdjPH1bkzB43_bBy9LZYWkG6t5YCLQLIK6QltBwIXGZtLi96dcX5Sx2JmwSQZp5Yg6yIE8fwvejdvnWfhDzB79nL4vwicLpacV2n4APTu4DXd0rhYHLHr1T-Qi0qH6tvZntMaA8x7EwF8/file?dl=1\n",
      "Resolving uc5309c620245919f154bd637774.dl.dropboxusercontent.com (uc5309c620245919f154bd637774.dl.dropboxusercontent.com)... 162.125.8.6, 2620:100:6018:6::a27d:306\n",
      "Connecting to uc5309c620245919f154bd637774.dl.dropboxusercontent.com (uc5309c620245919f154bd637774.dl.dropboxusercontent.com)|162.125.8.6|:443... connected.\n",
      "HTTP request sent, awaiting response... 200 OK\n",
      "Length: 244318790 (233M) [application/binary]\n",
      "Saving to: ‘./uk.w2v.bin’\n",
      "\n",
      "./uk.w2v.bin        100%[===================>] 233.00M  35.6MB/s    in 7.5s    \n",
      "\n",
      "2018-12-13 17:23:16 (30.9 MB/s) - ‘./uk.w2v.bin’ saved [244318790/244318790]\n",
      "\n",
      "--2018-12-13 17:23:17--  https://www.dropbox.com/s/3luwyjdmofsdfjz/ru.w2v.bin?dl=1\n",
      "Resolving www.dropbox.com (www.dropbox.com)... 162.125.3.1, 2620:100:601b:1::a27d:801\n",
      "Connecting to www.dropbox.com (www.dropbox.com)|162.125.3.1|:443... connected.\n",
      "HTTP request sent, awaiting response... 301 Moved Permanently\n",
      "Location: /s/dl/3luwyjdmofsdfjz/ru.w2v.bin [following]\n",
      "--2018-12-13 17:23:17--  https://www.dropbox.com/s/dl/3luwyjdmofsdfjz/ru.w2v.bin\n",
      "Reusing existing connection to www.dropbox.com:443.\n",
      "HTTP request sent, awaiting response... 302 Found\n",
      "Location: https://uc382466ee5b5828d40545563f5e.dl.dropboxusercontent.com/cd/0/get/AXaVOKJaUXu8TmhFLBqYOnnP6VH9NKuzVE2wIKcMsgxgdatRTK3xO946vKsBjuhIqtAlqtJprYcHtFBz4Wj9wqviLTtrYqOS0Tdc7xnfWdhXVPwklJOaGPd7ZfG_ausf4t7Ft5g5iGoRrWm78knPDplXWM1e0s5XVas7iYeHhqYYFQqrvG2qNtztPAZ8T_X9_Aw/file?dl=1 [following]\n",
      "--2018-12-13 17:23:17--  https://uc382466ee5b5828d40545563f5e.dl.dropboxusercontent.com/cd/0/get/AXaVOKJaUXu8TmhFLBqYOnnP6VH9NKuzVE2wIKcMsgxgdatRTK3xO946vKsBjuhIqtAlqtJprYcHtFBz4Wj9wqviLTtrYqOS0Tdc7xnfWdhXVPwklJOaGPd7ZfG_ausf4t7Ft5g5iGoRrWm78knPDplXWM1e0s5XVas7iYeHhqYYFQqrvG2qNtztPAZ8T_X9_Aw/file?dl=1\n",
      "Resolving uc382466ee5b5828d40545563f5e.dl.dropboxusercontent.com (uc382466ee5b5828d40545563f5e.dl.dropboxusercontent.com)... 162.125.8.6, 2620:100:601b:6::a27d:806\n",
      "Connecting to uc382466ee5b5828d40545563f5e.dl.dropboxusercontent.com (uc382466ee5b5828d40545563f5e.dl.dropboxusercontent.com)|162.125.8.6|:443... connected.\n",
      "HTTP request sent, awaiting response... 200 OK\n",
      "Length: 243837104 (233M) [application/binary]\n",
      "Saving to: ‘./ru.w2v.bin’\n",
      "\n",
      "./ru.w2v.bin        100%[===================>] 232.54M  35.5MB/s    in 6.3s    \n",
      "\n",
      "2018-12-13 17:23:24 (37.1 MB/s) - ‘./ru.w2v.bin’ saved [243837104/243837104]\n",
      "\n"
     ]
    }
   ],
   "source": [
    "!wget https://www.dropbox.com/s/cnwyfbfa44mqxph/ukr_rus.train.txt?dl=1 -O ./ukr_rus.train.txt\n",
    "!wget https://www.dropbox.com/s/78otz1d4d9b0284/ukr_rus.test.txt?dl=1 -O ./ukr_rus.test.txt\n",
    "!wget https://www.dropbox.com/s/210m7gwqkikpsxd/uk.w2v.bin?dl=1 -O ./uk.w2v.bin\n",
    "!wget https://www.dropbox.com/s/3luwyjdmofsdfjz/ru.w2v.bin?dl=1 -O ./ru.w2v.bin"
   ]
  },
  {
   "cell_type": "code",
   "execution_count": 0,
   "metadata": {
    "colab": {},
    "colab_type": "code",
    "id": "EiBrJSIPOk--"
   },
   "outputs": [],
   "source": [
    "ru_embs = gensim.models.KeyedVectors.load_word2vec_format(\"ru.w2v.bin\", binary=True)\n",
    "uk_embs = gensim.models.KeyedVectors.load_word2vec_format(\"uk.w2v.bin\", binary=True)"
   ]
  },
  {
   "cell_type": "code",
   "execution_count": 0,
   "metadata": {
    "colab": {},
    "colab_type": "code",
    "id": "0y5Or8yiOk_C"
   },
   "outputs": [],
   "source": [
    "x = uk_embs.vectors[:50000]\n",
    "y = ru_embs.vectors[:50000]"
   ]
  },
  {
   "cell_type": "code",
   "execution_count": 0,
   "metadata": {
    "colab": {},
    "colab_type": "code",
    "id": "m9j7n6RIOk_E"
   },
   "outputs": [],
   "source": [
    "def precision(pairs, uk_vectors, topn=1):\n",
    "    \"\"\" TODO maybe insert docstring \"\"\"\n",
    "    assert len(pairs) == len(uk_vectors)\n",
    "    num_matches = 0\n",
    "    for i, (uk, ru) in enumerate(pairs):\n",
    "        num_matches += ru in set(w[0] for w in ru_embs.most_similar([uk_vectors[i]], topn=topn))\n",
    "    return num_matches / len(pairs)\n",
    "\n",
    "def load_word_pairs(filename):\n",
    "    uk_ru_pairs = []\n",
    "    uk_vectors = []\n",
    "    ru_vectors = []\n",
    "    with open(filename, \"r\") as inpf:\n",
    "        for line in inpf:\n",
    "            uk, ru = line.rstrip().split(\"\\t\")\n",
    "            if uk not in uk_embs or ru not in ru_embs:\n",
    "                continue\n",
    "            uk_ru_pairs.append((uk, ru))\n",
    "            uk_vectors.append(uk_embs[uk])\n",
    "            ru_vectors.append(ru_embs[ru])\n",
    "    return uk_ru_pairs, np.array(uk_vectors), np.array(ru_vectors)"
   ]
  },
  {
   "cell_type": "code",
   "execution_count": 0,
   "metadata": {
    "colab": {},
    "colab_type": "code",
    "id": "cGYltnPnOk_H"
   },
   "outputs": [],
   "source": [
    "uk_ru_test, x_test, y_test = load_word_pairs(\"ukr_rus.test.txt\")\n",
    "uk_ru_train, x_train, y_train = load_word_pairs(\"ukr_rus.train.txt\")"
   ]
  },
  {
   "cell_type": "code",
   "execution_count": 0,
   "metadata": {
    "colab": {
     "base_uri": "https://localhost:8080/",
     "height": 88
    },
    "colab_type": "code",
    "executionInfo": {
     "elapsed": 10969,
     "status": "ok",
     "timestamp": 1544721838342,
     "user": {
      "displayName": "Антон Чикунов",
      "photoUrl": "https://lh6.googleusercontent.com/-UUCr162DexY/AAAAAAAAAAI/AAAAAAAACHw/TB_NX-xqcWs/s64/photo.jpg",
      "userId": "10327575406852457431"
     },
     "user_tz": -300
    },
    "id": "OSPVYiDxOk_L",
    "outputId": "6e14e0f1-856e-432e-ab10-6319f8dd55cb"
   },
   "outputs": [
    {
     "name": "stderr",
     "output_type": "stream",
     "text": [
      "/usr/local/lib/python3.6/dist-packages/gensim/matutils.py:737: FutureWarning: Conversion of the second argument of issubdtype from `int` to `np.signedinteger` is deprecated. In future, it will be treated as `np.int64 == np.dtype(int).type`.\n",
      "  if np.issubdtype(vec.dtype, np.int):\n"
     ]
    },
    {
     "data": {
      "text/plain": [
       "0.0"
      ]
     },
     "execution_count": 7,
     "metadata": {
      "tags": []
     },
     "output_type": "execute_result"
    }
   ],
   "source": [
    "precision(uk_ru_test, x_test, 5)"
   ]
  },
  {
   "cell_type": "markdown",
   "metadata": {
    "colab_type": "text",
    "id": "Y4p39NM_Ok_O"
   },
   "source": [
    "## Reminder"
   ]
  },
  {
   "cell_type": "markdown",
   "metadata": {
    "colab_type": "text",
    "id": "alvAD41fOk_O"
   },
   "source": [
    "### Embedding space mapping"
   ]
  },
  {
   "cell_type": "markdown",
   "metadata": {
    "colab_type": "text",
    "id": "TU0jq0MUOk_R"
   },
   "source": [
    "Let $x_i \\in \\mathrm{R}^d$ be the distributed representation of word $i$ in the source language, and $y_i \\in \\mathrm{R}^d$ is the vector representation of its translation. Our purpose is to learn such linear transform $W$ that minimizes euclidian distance between $Wx_i$ and $y_i$ for some subset of word embeddings. Thus we can formulate so-called Procrustes problem:\n",
    "\n",
    "$$W^*= \\arg\\min_W \\sum_{i=1}^n||Wx_i - y_i||_2$$\n",
    "or\n",
    "$$W^*= \\arg\\min_W ||WX - Y||_F$$\n",
    "\n",
    "where $||*||_F$ - Frobenius norm.\n",
    "\n",
    "In Greek mythology, Procrustes or \"the stretcher\" was a rogue smith and bandit from Attica who attacked people by stretching them or cutting off their legs, so as to force them to fit the size of an iron bed. We make same bad things with source embedding space. Our Procrustean bed is target embedding space."
   ]
  },
  {
   "cell_type": "markdown",
   "metadata": {
    "colab_type": "text",
    "id": "QxZH14cVOk_R"
   },
   "source": [
    "But wait...$W^*= \\arg\\min_W \\sum_{i=1}^n||Wx_i - y_i||_2$ looks like simple multiple linear regression (without intercept fit). So let's code."
   ]
  },
  {
   "cell_type": "markdown",
   "metadata": {
    "colab_type": "text",
    "id": "ynKUAK97Ok_S"
   },
   "source": [
    "### Orthogonal Procrustean Problem"
   ]
  },
  {
   "cell_type": "markdown",
   "metadata": {
    "colab_type": "text",
    "id": "rABZZ5LiOk_U"
   },
   "source": [
    "It can be shown (see original paper) that a self-consistent linear mapping between semantic spaces should be orthogonal. TODO simplify phrases\n",
    "We can restrict transform $W$ to be orthogonal. Then we will solve next problem:\n",
    "\n",
    "$$W^*= \\arg\\min_W ||WX - Y||_F \\text{, where: } W^TW = I$$\n",
    "\n",
    "$$I \\text{- identity matrix}$$\n",
    "\n",
    "Instead of making yet another regression problem we can find optimal orthogonal transformation using singular value decomposition. It turns out that optimal transformation $W^*$ can be expressed via SVD components:\n",
    "$$X^TY=U\\Sigma V^T\\text{, singular value decompostion}$$\n",
    "$$W^*=UV^T$$"
   ]
  },
  {
   "cell_type": "markdown",
   "metadata": {
    "colab_type": "text",
    "id": "QFm4691-Ok_U"
   },
   "source": [
    "## Word translation learning using GAN (8 points)"
   ]
  },
  {
   "cell_type": "markdown",
   "metadata": {
    "colab_type": "text",
    "id": "Gf2MomxQOk_V"
   },
   "source": [
    "### Generator"
   ]
  },
  {
   "cell_type": "markdown",
   "metadata": {
    "colab_type": "text",
    "id": "P3yoCDUOOk_W"
   },
   "source": [
    "If $\\mathcal{X}=\\{x_1,...,x_n\\} \\subset \\mathrm{R}^d$ - source embedding set, and $\\mathcal{Y}=\\{y_1,...,y_m\\} \\subset \\mathrm{R}^d$ - target embedding set, then discriminator is simply orthogonal mapping that can be defined as square matrix: $W\\in O_d(\\mathrm{R})$.\n",
    "\n",
    "In terms of neural network, generator is a network with single linear layer with orthogonality constraint and without nonlinearity after it.\n",
    "\n",
    "The generator input is a source embedding $x_i$, the generator output is a mapped source embedding $Wx_i$"
   ]
  },
  {
   "cell_type": "code",
   "execution_count": 0,
   "metadata": {
    "colab": {},
    "colab_type": "code",
    "id": "dJHNu2uZOk_X"
   },
   "outputs": [],
   "source": [
    "EMB_SIZE = 300"
   ]
  },
  {
   "cell_type": "code",
   "execution_count": 0,
   "metadata": {
    "colab": {},
    "colab_type": "code",
    "id": "Ljbp8vP5Ok_a"
   },
   "outputs": [],
   "source": [
    "import keras, keras.layers as L\n",
    "\n",
    "def build_generator(emb_size):\n",
    "    # TIPS: use keras.Sequential and keras.initializers\n",
    "    # YOUR_CODE\n",
    "    model = Sequential()\n",
    "    model.add(L.InputLayer([emb_size]))\n",
    "    model.add(L.Dense(\n",
    "        emb_size, \n",
    "        activation=None, \n",
    "        use_bias=False, \n",
    "        kernel_initializer=keras.initializers.Identity()))\n",
    "    return model"
   ]
  },
  {
   "cell_type": "code",
   "execution_count": 0,
   "metadata": {
    "colab": {},
    "colab_type": "code",
    "id": "TEo6jjn0Ok_c"
   },
   "outputs": [],
   "source": [
    "generator = build_generator(EMB_SIZE)"
   ]
  },
  {
   "cell_type": "markdown",
   "metadata": {
    "colab_type": "text",
    "id": "F9pggEaqOk_e"
   },
   "source": [
    "### Discriminator"
   ]
  },
  {
   "cell_type": "markdown",
   "metadata": {
    "colab_type": "text",
    "id": "9nt5QLb0Ok_f"
   },
   "source": [
    "Discriminator is a neural network that should discriminate between objects from $W\\mathcal{X}$ (mapped source embeddings) and objects from $\\mathcal{Y}$ (target embeddings).\n",
    "\n",
    "Just like in original article for discriminator we will use a multilayer perceptron with two hidden layers of size 2048, and Leaky-ReLU activation functions. The input to the discriminator is corrupted with dropout noise\n",
    "with a rate of 0.1.\n",
    "\n",
    "The discriminator input is either mapped source embedding $Wx_i$ or target embedding $y_j$, the discriminator output is a probability of input to be from source distribution $p_D=p_D(source=1)$\n",
    "\n"
   ]
  },
  {
   "cell_type": "code",
   "execution_count": 0,
   "metadata": {
    "colab": {},
    "colab_type": "code",
    "id": "IfkFCMQTOk_f"
   },
   "outputs": [],
   "source": [
    "def build_discriminator(emb_size):\n",
    "    # YOUR_CODE\n",
    "    model = Sequential()\n",
    "    model.add(L.InputLayer([emb_size]))\n",
    "    model.add(L.Dense(2048, activation=None))\n",
    "    model.add(L.LeakyReLU(0.2))\n",
    "    model.add(L.Dense(2048, activation=None))\n",
    "    model.add(L.LeakyReLU(0.2))\n",
    "    model.add(L.Dense(1, activation=None))\n",
    "    return model"
   ]
  },
  {
   "cell_type": "code",
   "execution_count": 0,
   "metadata": {
    "colab": {},
    "colab_type": "code",
    "id": "yEc6XzoFOk_i"
   },
   "outputs": [],
   "source": [
    "discriminator = build_discriminator(EMB_SIZE)"
   ]
  },
  {
   "cell_type": "markdown",
   "metadata": {
    "colab_type": "text",
    "id": "4BjHtymHOk_m"
   },
   "source": [
    "### Discriminator loss"
   ]
  },
  {
   "cell_type": "markdown",
   "metadata": {
    "colab_type": "text",
    "id": "c7tT9zvhOk_n"
   },
   "source": [
    "The purpose of discriminator is to maximize output probability for mapped source embeddings $p_D(source=1|Wx_i)$ and minimize probability for target embeddings $p_D(source=1|y_j)$. The last is equivalent to maximization of  $p_D(source=0|y_j)$. Thus, we can train this classifier with standard cross-entropy loss:"
   ]
  },
  {
   "cell_type": "markdown",
   "metadata": {
    "colab_type": "text",
    "id": "e4f2wMsgOk_n"
   },
   "source": [
    "$$\\mathcal{L}_D(\\theta_D|W)=-\\frac{1}{n}\\sum_{i=1}^n\\log p_D(source=1|Wx_i)-\\frac{1}{m}\\sum_{i=1}^m\\log p_D(source=0|y_i)$$\n",
    "Equivalent:\n",
    "$$\\mathcal{L}_D(\\theta_D|W)=-\\frac{1}{n}\\sum_{i=1}^n\\log p_D(source=1|Wx_i)-\\frac{1}{m}\\sum_{i=1}^m\\log (1-p_D(source=1|y_i))$$\n",
    "\n",
    "**NB:** We minimize $\\mathcal{L}_D(\\theta_D|W)$ with respect discriminator parameters $\\theta_D$. The matrix $W$ is fixed."
   ]
  },
  {
   "cell_type": "code",
   "execution_count": 0,
   "metadata": {
    "colab": {},
    "colab_type": "code",
    "id": "XKBzJ313Ok_p"
   },
   "outputs": [],
   "source": [
    "# YOUR_CODE HERE\n",
    "\n",
    "#X = \n",
    "#Y = \n",
    "#W = \n",
    "#WX =\n",
    "X = tf.placeholder(tf.float32, [None, EMB_SIZE])\n",
    "Y = tf.placeholder(tf.float32, [None, EMB_SIZE])\n",
    "W = generator.weights[0]\n",
    "WX = generator(X)\n",
    "\n",
    "#logp_wx_is_real = \n",
    "#logp_wx_is_fake = \n",
    "#logp_y_is_real = \n",
    "\n",
    "desc_wx = discriminator(WX)\n",
    "\n",
    "logp_wx_is_real = tf.log_sigmoid(desc_wx)\n",
    "logp_wx_is_fake = tf.log_sigmoid(-desc_wx)\n",
    "logp_y_is_real = tf.log_sigmoid(discriminator(Y))\n",
    "\n",
    "# L_d = L_d_source + L_d_target\n",
    "\n",
    "L_d_source = -tf.reduce_mean(logp_wx_is_fake)\n",
    "L_d_target = -tf.reduce_mean(logp_y_is_real)\n",
    "L_d = L_d_source + L_d_target"
   ]
  },
  {
   "cell_type": "markdown",
   "metadata": {
    "colab_type": "text",
    "id": "zNoB_WomOk_t"
   },
   "source": [
    "As suggested Goodfellow (2016) it is useful to use soft targets instead hard ones. In case label smoothing:\n",
    "$$\\mathcal{L}_D(\\theta_D|W)=\\mathcal{L}_{D_1}+\\mathcal{L}_{D_2}$$\n",
    "\n",
    "Where:\n",
    "$$\\mathcal{L}_{D_1}=\\frac{1}{n}\\sum_{i=1}^n[(1-\\alpha)\\log p_D(source=1|Wx_i) + \\alpha\\log p_D(source=0|Wx_i)]$$\n",
    "\n",
    "$$\\mathcal{L}_{D_2}=\\frac{1}{m}\\sum_{i=1}^n[(1-\\alpha)\\log p_D(source=0|Wx_i) + \\alpha\\log p_D(source=1|Wx_i)]$$"
   ]
  },
  {
   "cell_type": "code",
   "execution_count": 0,
   "metadata": {
    "colab": {},
    "colab_type": "code",
    "id": "HVfGGI6XOk_u"
   },
   "outputs": [],
   "source": [
    "# YOUR CODE HERE IF YOU REALLY WANT TO USE LABEL SMOOTHING"
   ]
  },
  {
   "cell_type": "markdown",
   "metadata": {
    "colab_type": "text",
    "id": "qN4GCBBOOk_z"
   },
   "source": [
    "### Generator loss"
   ]
  },
  {
   "cell_type": "markdown",
   "metadata": {
    "colab_type": "text",
    "id": "ZjpKXjAQOk_1"
   },
   "source": [
    "The purpose of generator is to fool discriminator, i.e. to produce mapping $W\\mathcal{X}$ indistinguishable from $\\mathcal{Y}$. Therefore we should turn over discriminator loss, minimize output probability for mapped source embeddings $p_D(source=1|Wx_i)$ and minimize probability for target embeddings $p_D(source=0|y_j)$.\n",
    "\n",
    "$$\\mathcal{L}_G(W|\\theta_D)=-\\frac{1}{n}\\sum_{i=1}^n\\log (1-p_D(source=1|Wx_i))-\\frac{1}{m}\\sum_{i=1}^m\\log p_D(source=1|y_i)$$\n",
    "\n",
    "**NB:** We minimize $\\mathcal{L}_G(W|\\theta_D)$ with respect matrix $W$ coefficients. Disciminator parameters $\\theta_D$ is fixed."
   ]
  },
  {
   "cell_type": "markdown",
   "metadata": {
    "colab_type": "text",
    "id": "b_M1V8a5Ok_2"
   },
   "source": [
    "Because gradients do not flow through generator for target samples:\n",
    "\n",
    "$$\\mathcal{L}_G(W|\\theta_D)=-\\frac{1}{n}\\sum_{i=1}^n\\log (1-p_D(source=1|Wx_i))$$"
   ]
  },
  {
   "cell_type": "markdown",
   "metadata": {
    "colab_type": "text",
    "id": "4558YRHPOk_3"
   },
   "source": [
    "In contrast with original article to be more stable we allow you to add a supervised component of loss - MSE for small number of fixed pairs vectors from $\\mathcal{X}$ and $\\mathcal{Y}$.\n",
    "\n",
    "$$\\mathcal{L}_G(W|\\theta_D)=-\\frac{1}{n}\\sum_{i=1}^n\\log (1-p_D(source=1|Wx_i))+\\gamma \\frac{1}{N}\\sum_{k}^N(Wx_k-y_k)^2$$"
   ]
  },
  {
   "cell_type": "code",
   "execution_count": 0,
   "metadata": {
    "colab": {},
    "colab_type": "code",
    "id": "V3rG40bIOk_4"
   },
   "outputs": [],
   "source": [
    "#X_pair = tf.placeholder('float32', [None, EMB_SIZE])\n",
    "#Y_pair = tf.placeholder('float32', [None, EMB_SIZE])\n",
    "\n",
    "X_pair = tf.placeholder('float32', [None, EMB_SIZE])\n",
    "Y_pair = tf.placeholder('float32', [None, EMB_SIZE])\n",
    "\n",
    "# YOUR_CODE_HERE\n",
    "\n",
    "#L_g = L_mse * 100 + L_g_source\n",
    "\n",
    "L_g_source = -tf.reduce_mean(logp_wx_is_real)\n",
    "L_mse = tf.losses.mean_squared_error(Y_pair, generator(X_pair))\n",
    "\n",
    "L_g = L_mse * 100 + L_g_source"
   ]
  },
  {
   "cell_type": "markdown",
   "metadata": {
    "colab_type": "text",
    "id": "tYTql1SjOk_6"
   },
   "source": [
    "### Orthogonality constraint\n",
    "Conneau et al. propose to use a simple update step to ensure that the matrix $W$ stays close to an\n",
    "orthogonal matrix during training:\n",
    "\n",
    "$$W \\gets (1+\\beta)W-\\beta(WW^T)W$$"
   ]
  },
  {
   "cell_type": "code",
   "execution_count": 0,
   "metadata": {
    "colab": {},
    "colab_type": "code",
    "id": "YY5-OWRiOk_7"
   },
   "outputs": [],
   "source": [
    "BETA = tf.constant(0.1)\n",
    "\n",
    "# TIPS: USE tf.assing\n",
    "W_new = (1 + BETA) * W - BETA * tf.matmul(tf.matmul(W, W, transpose_b=True), W)\n",
    "\n",
    "orthogonolize = tf.assign(W, W_new)"
   ]
  },
  {
   "cell_type": "markdown",
   "metadata": {
    "colab_type": "text",
    "id": "JFCesgI0Ok_9"
   },
   "source": [
    "### Training"
   ]
  },
  {
   "cell_type": "code",
   "execution_count": 0,
   "metadata": {
    "colab": {},
    "colab_type": "code",
    "id": "3y59YeJAOk_-"
   },
   "outputs": [],
   "source": [
    "# LEARNING_RATE = 0.1\n",
    "# GRADIENT DESCENT OPTIMIZER?\n",
    "LEARNING_RATE = 0.1\n",
    "\n",
    "#gen_optim =\n",
    "#dis_optim =\n",
    "gen_optim = tf.train.GradientDescentOptimizer(LEARNING_RATE).minimize(L_g, var_list=generator.trainable_weights)\n",
    "dis_optim = tf.train.GradientDescentOptimizer(LEARNING_RATE).minimize(L_d, var_list=discriminator.trainable_weights)"
   ]
  },
  {
   "cell_type": "code",
   "execution_count": 0,
   "metadata": {
    "colab": {},
    "colab_type": "code",
    "id": "n9aX1umMOlAB"
   },
   "outputs": [],
   "source": [
    "BATCH_SIZE = 32\n",
    "\n",
    "def sample_batch(bsize):\n",
    "    x_batch = x[np.random.choice(np.arange(x.shape[0]), size=bsize)]\n",
    "    y_batch = y[np.random.choice(np.arange(y.shape[0]), size=bsize)]\n",
    "    return x_batch, y_batch"
   ]
  },
  {
   "cell_type": "code",
   "execution_count": 0,
   "metadata": {
    "colab": {},
    "colab_type": "code",
    "id": "kmpkKH6POlAD"
   },
   "outputs": [],
   "source": [
    "def discriminator_step():\n",
    "    # YOUR_CODE\n",
    "    feed_dict = {\n",
    "        X: x_batch,\n",
    "        Y: y_batch\n",
    "    }\n",
    "    sess.run(dis_optim, feed_dict)\n",
    "    \n",
    "def generator_step():\n",
    "    # YOUR_CODE\n",
    "    feed_dict = {\n",
    "        X: x_batch,\n",
    "        X_pair: x_train[:50],\n",
    "        Y_pair: y_train[:50]\n",
    "    }\n",
    "    sess.run(gen_optim, feed_dict)\n",
    "\n",
    "def orthogonolize_step():\n",
    "    sess.run(orthogonolize)\n"
   ]
  },
  {
   "cell_type": "code",
   "execution_count": 0,
   "metadata": {
    "colab": {},
    "colab_type": "code",
    "id": "kf48AIJgOlAH"
   },
   "outputs": [],
   "source": [
    "def get_metrics():\n",
    "    feed_dict = {\n",
    "        X: x_test,\n",
    "        Y: y_test,\n",
    "        X_pair: x_train[:50],\n",
    "        Y_pair: y_train[:50]\n",
    "    }\n",
    "    loss_g, loss_d, logp_x, logp_y, wx = sess.run([L_g, L_d, logp_wx_is_real, logp_y_is_real, WX], feed_dict)\n",
    "    return loss_g, loss_d, np.exp(logp_x), np.exp(logp_y), wx"
   ]
  },
  {
   "cell_type": "code",
   "execution_count": 0,
   "metadata": {
    "colab": {},
    "colab_type": "code",
    "id": "Q9XqnUzIOlAK"
   },
   "outputs": [],
   "source": [
    "sess = keras.backend.get_session()\n",
    "sess.run(tf.global_variables_initializer())"
   ]
  },
  {
   "cell_type": "code",
   "execution_count": 0,
   "metadata": {
    "colab": {
     "base_uri": "https://localhost:8080/",
     "height": 895
    },
    "colab_type": "code",
    "executionInfo": {
     "elapsed": 3632,
     "status": "ok",
     "timestamp": 1544727482822,
     "user": {
      "displayName": "Антон Чикунов",
      "photoUrl": "https://lh6.googleusercontent.com/-UUCr162DexY/AAAAAAAAAAI/AAAAAAAACHw/TB_NX-xqcWs/s64/photo.jpg",
      "userId": "10327575406852457431"
     },
     "user_tz": -300
    },
    "id": "0NrvBtB7OlAM",
    "outputId": "74e2f30c-19ff-43e6-eaaa-ce19192ebce0",
    "scrolled": false
   },
   "outputs": [
    {
     "data": {
      "image/png": "[encoded data removed]",
      "text/plain": [
       "<matplotlib.figure.Figure at 0x7f5fc79c76d8>"
      ]
     },
     "metadata": {
      "tags": []
     },
     "output_type": "display_data"
    },
    {
     "name": "stdout",
     "output_type": "stream",
     "text": [
      "\n"
     ]
    }
   ],
   "source": [
    "N_EPOCHS = 10\n",
    "EPOCH_SIZE = 1000\n",
    "DIS_STEPS = 5\n",
    "GEN_STEPS = 1\n",
    "\n",
    "\n",
    "gen_loss_history = []\n",
    "dis_loss_history = []\n",
    "prec_history = []\n",
    "\n",
    "for epoch_num in range(N_EPOCHS):\n",
    "    print(\"Epoch: {}\".format(epoch_num + 1))\n",
    "    for batch_num in tnrange(EPOCH_SIZE):\n",
    "        \n",
    "        for _ in range(DIS_STEPS):\n",
    "            # YOUR_CODE\n",
    "            x_batch, y_batch = sample_batch(BATCH_SIZE)\n",
    "            discriminator_step()\n",
    "            \n",
    "        for _ in range(GEN_STEPS):\n",
    "            # YOUR_CODE\n",
    "            x_batch, y_batch = sample_batch(BATCH_SIZE)\n",
    "            generator_step()\n",
    "            orthogonolize_step()\n",
    "        \n",
    "        if batch_num % 10 == 0:\n",
    "            display.clear_output(wait=True)\n",
    "            loss_g, loss_d, p_x, p_y, wx = get_metrics()\n",
    "            gen_loss_history.append(loss_g)\n",
    "            dis_loss_history.append(loss_d)\n",
    "            \n",
    "            if batch_num % 100 == 0:\n",
    "                prec_history.append(precision(uk_ru_test, wx, 5))\n",
    "\n",
    "            plt.figure(figsize=(15,15))\n",
    "            plt.subplot(212)\n",
    "            plt.plot(gen_loss_history, label=\"Generator loss\")\n",
    "            plt.plot(dis_loss_history, label=\"Discriminator loss\")\n",
    "            plt.legend(loc='best')\n",
    "\n",
    "            plt.subplot(221)\n",
    "            plt.title('Mapped vs target data')\n",
    "            plt.hist(p_x, label='D(Y)', alpha=0.5,range=[0,1], bins=20)\n",
    "            plt.hist(p_y, label='D(WX)',alpha=0.5,range=[0,1], bins=20)\n",
    "            plt.legend(loc='best')\n",
    "            \n",
    "            plt.subplot(222)\n",
    "            plt.title('Precision top5')\n",
    "            plt.plot(prec_history)\n",
    "            plt.show()\n",
    "                \n",
    "        "
   ]
  },
  {
   "cell_type": "markdown",
   "metadata": {
    "colab_type": "text",
    "id": "3gyxDfStOlAP"
   },
   "source": [
    "## Fully unsupervised word translation learning (2 points)"
   ]
  },
  {
   "cell_type": "markdown",
   "metadata": {
    "colab_type": "text",
    "id": "ZgfwyHQnOlAP"
   },
   "source": [
    "Try to exclude MSE term from generator loss and train GAN with sufficient quality (~40% precision top5). You should tune parameters of optimizers and training schedule to make it stable.\n",
    "\n",
    "Good luck!"
   ]
  },
  {
   "cell_type": "code",
   "execution_count": 0,
   "metadata": {
    "colab": {},
    "colab_type": "code",
    "id": "1kdP3KKhUozS"
   },
   "outputs": [],
   "source": []
  }
 ],
 "metadata": {
  "accelerator": "TPU",
  "colab": {
   "collapsed_sections": [],
   "name": "homework.ipynb",
   "provenance": [],
   "toc_visible": true,
   "version": "0.3.2"
  },
  "kernelspec": {
   "display_name": "Python 3",
   "language": "python",
   "name": "python3"
  },
  "language_info": {
   "codemirror_mode": {
    "name": "ipython",
    "version": 3
   },
   "file_extension": ".py",
   "mimetype": "text/x-python",
   "name": "python",
   "nbconvert_exporter": "python",
   "pygments_lexer": "ipython3",
   "version": "3.7.0"
  }
 },
 "nbformat": 4,
 "nbformat_minor": 1
}
